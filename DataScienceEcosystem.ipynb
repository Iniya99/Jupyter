{
 "cells": [
  {
   "cell_type": "markdown",
   "id": "5322b42d-f4e0-4ddb-9219-a749d6f03c30",
   "metadata": {},
   "source": [
    "# Data Science Tools and Ecosystem"
   ]
  },
  {
   "cell_type": "markdown",
   "id": "836aabe5-4c59-41c0-9bdd-9ad733033273",
   "metadata": {},
   "source": [
    "In this notebook, Data Science Tools and Ecosystem are summarized\n"
   ]
  },
  {
   "cell_type": "markdown",
   "id": "c9925430-fb54-48de-961b-fcf48d8608e7",
   "metadata": {
    "tags": []
   },
   "source": [
    "__Objectives:__\n",
    "* List popular languages for Data Science\n",
    "* List some libraries used in Data Science\n",
    "* List some tools that are used in Data Science\n",
    "* Examples of aithmetic expressions"
   ]
  },
  {
   "cell_type": "markdown",
   "id": "22ac9686-dbb2-42b9-b8e7-8aae2dae6501",
   "metadata": {},
   "source": [
    "Some of the popular languages that Data Scientists use are :\n",
    "1. python\n",
    "2. R\n",
    "3. SQL"
   ]
  },
  {
   "cell_type": "markdown",
   "id": "a06281cf-7520-4428-9743-6451fc6c5ccf",
   "metadata": {},
   "source": [
    "Some of the commonly used libraries used by Data Scientists include:\n",
    "1. python libraries\n",
    "2. R libraries\n",
    "3. Julia libraries"
   ]
  },
  {
   "cell_type": "markdown",
   "id": "80bc1a25-65c8-497e-ad78-0c081a83a09a",
   "metadata": {},
   "source": [
    "|Data Science Tools|\n",
    "|------------------|\n",
    "|Jupyter notebook|\n",
    "|Tensorflow|\n",
    "|VS code|"
   ]
  },
  {
   "cell_type": "markdown",
   "id": "72588f19-a78b-4a97-9539-313b8866adf2",
   "metadata": {},
   "source": [
    "### Below are a few examples of evaluating arithmetic expressions in Python"
   ]
  },
  {
   "cell_type": "markdown",
   "id": "7c814621-f43c-414c-af97-ee406e4f81e7",
   "metadata": {},
   "source": [
    "This a simple arithmetic expression to mutiply then add integers\n"
   ]
  },
  {
   "cell_type": "code",
   "execution_count": 2,
   "id": "a461b11f-88fb-42ef-ab27-6ec37d5aad8b",
   "metadata": {
    "tags": []
   },
   "outputs": [
    {
     "data": {
      "text/plain": [
       "17"
      ]
     },
     "execution_count": 2,
     "metadata": {},
     "output_type": "execute_result"
    }
   ],
   "source": [
    "(3*4)+5"
   ]
  },
  {
   "cell_type": "markdown",
   "id": "b605335c-f7a6-4736-9044-b9a0b7613d48",
   "metadata": {},
   "source": [
    "This will convert 200 minutes to hours by diving by 60"
   ]
  },
  {
   "cell_type": "code",
   "execution_count": 3,
   "id": "0a79be47-79ca-40e8-a5c7-686b9bb53504",
   "metadata": {
    "tags": []
   },
   "outputs": [
    {
     "data": {
      "text/plain": [
       "3.3333333333333335"
      ]
     },
     "execution_count": 3,
     "metadata": {},
     "output_type": "execute_result"
    }
   ],
   "source": [
    "min=200\n",
    "min/60"
   ]
  },
  {
   "cell_type": "markdown",
   "id": "0efe25a9-1436-4a9b-bc3a-cfc129aa9929",
   "metadata": {},
   "source": [
    "## Author"
   ]
  },
  {
   "cell_type": "markdown",
   "id": "c9d2a211-842f-4404-a3b4-74cde6f398c1",
   "metadata": {},
   "source": [
    "Iniya Elango"
   ]
  },
  {
   "cell_type": "code",
   "execution_count": null,
   "id": "6f732216-ecde-4633-9dca-c6e0149bbb44",
   "metadata": {},
   "outputs": [],
   "source": []
  }
 ],
 "metadata": {
  "kernelspec": {
   "display_name": "Python",
   "language": "python",
   "name": "conda-env-python-py"
  },
  "language_info": {
   "codemirror_mode": {
    "name": "ipython",
    "version": 3
   },
   "file_extension": ".py",
   "mimetype": "text/x-python",
   "name": "python",
   "nbconvert_exporter": "python",
   "pygments_lexer": "ipython3",
   "version": "3.7.12"
  }
 },
 "nbformat": 4,
 "nbformat_minor": 5
}
